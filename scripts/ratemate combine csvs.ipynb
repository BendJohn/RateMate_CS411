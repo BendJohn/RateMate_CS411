{
 "cells": [
  {
   "cell_type": "code",
   "execution_count": 60,
   "metadata": {},
   "outputs": [],
   "source": [
    "import numpy as np\n",
    "import pandas as pd"
   ]
  },
  {
   "cell_type": "code",
   "execution_count": 61,
   "metadata": {},
   "outputs": [],
   "source": [
    "df_all = pd.read_csv('grad_requirements_all.csv')\n",
    "df_rec = pd.read_csv('grad_requirements_recommended_route.csv')"
   ]
  },
  {
   "cell_type": "code",
   "execution_count": 62,
   "metadata": {},
   "outputs": [
    {
     "data": {
      "text/html": [
       "<div>\n",
       "<style scoped>\n",
       "    .dataframe tbody tr th:only-of-type {\n",
       "        vertical-align: middle;\n",
       "    }\n",
       "\n",
       "    .dataframe tbody tr th {\n",
       "        vertical-align: top;\n",
       "    }\n",
       "\n",
       "    .dataframe thead th {\n",
       "        text-align: right;\n",
       "    }\n",
       "</style>\n",
       "<table border=\"1\" class=\"dataframe\">\n",
       "  <thead>\n",
       "    <tr style=\"text-align: right;\">\n",
       "      <th></th>\n",
       "      <th>Engineering Mechanics, BS</th>\n",
       "      <th>['PHYS 212', 'ME 410', 'MCB 150', 'TAM 252', 'TAM 335', 'TAM 211', 'ME 360', 'TAM 499', 'MATH 415', 'MATH 423', 'ME 481', 'CS 101', 'STAT 400', 'CHEM 103', 'ME 412', 'CEE 453', 'TAM 324', 'AE 353', 'CS 450', 'PHYS 213', 'MATH 231', 'MATH 442', 'ME 412', 'AE 402', 'CEE 451', 'TAM 499', 'ECE 329', 'ME 482', 'CS 357', 'TAM 451', 'MATH 441', 'MATH 448', 'MATH 490', 'TAM 212', 'TAM 499', 'ECE 473', 'CHEM 105', 'PHYS 214', 'MATH 221', 'TAM 499', 'NPRE 431', 'ECE 205', 'ECE 473', 'TAM 499', 'ME 290', 'TAM 424', 'ECE 473', 'ME 170', 'CS 357', 'ECE 380', 'PHYS 211', 'TAM 195', 'BIOP 401', 'ENG 100', 'ECE 206', 'TAM 456', 'CEE 445', 'AE 412', 'MATH 241', 'TAM 412', 'TAM 251', 'TAM 499', 'CEE 461', 'PHYS 402', 'TAM 445', 'CS 357', 'MSE 401', 'CEE 360', 'ECE 473', 'TAM 435', 'ME 483', 'ECE 473', 'MATH 484', 'MATH 446', 'ME 471', 'CS 457', 'MCB 151', 'ME 470', 'CEE 491', 'TAM 470', 'TAM 461', 'TAM 427', 'TAM 499', 'TAM 270', 'CHEM 102', 'CHEM 104', 'MATH 447', 'ME 200', 'MSE 489', 'MATH 482', 'TAM 424', 'STAT 410', 'CEE 310', 'TAM 428', 'CEE 460', 'PHYS 402', 'ECE 330', 'MATH 489']</th>\n",
       "    </tr>\n",
       "  </thead>\n",
       "  <tbody>\n",
       "    <tr>\n",
       "      <th>0</th>\n",
       "      <td>Health Planning &amp; Administration</td>\n",
       "      <td>['KIN 387', 'CMN 465', 'CHLH 340', 'CLCV 102',...</td>\n",
       "    </tr>\n",
       "    <tr>\n",
       "      <th>1</th>\n",
       "      <td>Finance in Agribusiness</td>\n",
       "      <td>['ACE 360', 'ACCY 202', 'MATH 124', 'ACE 436',...</td>\n",
       "    </tr>\n",
       "    <tr>\n",
       "      <th>2</th>\n",
       "      <td>History of Art, BALAS</td>\n",
       "      <td>['HIST/EALC 221', 'HIST 310', 'AAS 300/GWS 305...</td>\n",
       "    </tr>\n",
       "    <tr>\n",
       "      <th>3</th>\n",
       "      <td>Health Behavior Change</td>\n",
       "      <td>['IHLT 230', 'CMN 463', 'IHLT 101', 'PSYC 352'...</td>\n",
       "    </tr>\n",
       "    <tr>\n",
       "      <th>4</th>\n",
       "      <td>Food Science</td>\n",
       "      <td>['ECON 202', 'MCB 101', 'FSHN 469', 'ACE 261',...</td>\n",
       "    </tr>\n",
       "  </tbody>\n",
       "</table>\n",
       "</div>"
      ],
      "text/plain": [
       "          Engineering Mechanics, BS  \\\n",
       "0  Health Planning & Administration   \n",
       "1           Finance in Agribusiness   \n",
       "2             History of Art, BALAS   \n",
       "3            Health Behavior Change   \n",
       "4                      Food Science   \n",
       "\n",
       "  ['PHYS 212', 'ME 410', 'MCB 150', 'TAM 252', 'TAM 335', 'TAM 211', 'ME 360', 'TAM 499', 'MATH 415', 'MATH 423', 'ME 481', 'CS 101', 'STAT 400', 'CHEM 103', 'ME 412', 'CEE 453', 'TAM 324', 'AE 353', 'CS 450', 'PHYS 213', 'MATH 231', 'MATH 442', 'ME 412', 'AE 402', 'CEE 451', 'TAM 499', 'ECE 329', 'ME 482', 'CS 357', 'TAM 451', 'MATH 441', 'MATH 448', 'MATH 490', 'TAM 212', 'TAM 499', 'ECE 473', 'CHEM 105', 'PHYS 214', 'MATH 221', 'TAM 499', 'NPRE 431', 'ECE 205', 'ECE 473', 'TAM 499', 'ME 290', 'TAM 424', 'ECE 473', 'ME 170', 'CS 357', 'ECE 380', 'PHYS 211', 'TAM 195', 'BIOP 401', 'ENG 100', 'ECE 206', 'TAM 456', 'CEE 445', 'AE 412', 'MATH 241', 'TAM 412', 'TAM 251', 'TAM 499', 'CEE 461', 'PHYS 402', 'TAM 445', 'CS 357', 'MSE 401', 'CEE 360', 'ECE 473', 'TAM 435', 'ME 483', 'ECE 473', 'MATH 484', 'MATH 446', 'ME 471', 'CS 457', 'MCB 151', 'ME 470', 'CEE 491', 'TAM 470', 'TAM 461', 'TAM 427', 'TAM 499', 'TAM 270', 'CHEM 102', 'CHEM 104', 'MATH 447', 'ME 200', 'MSE 489', 'MATH 482', 'TAM 424', 'STAT 410', 'CEE 310', 'TAM 428', 'CEE 460', 'PHYS 402', 'ECE 330', 'MATH 489']  \n",
       "0  ['KIN 387', 'CMN 465', 'CHLH 340', 'CLCV 102',...                                                                                                                                                                                                                                                                                                                                                                                                                                                                                                                                                                                                                                                                                                                                                                                                                                                                                                                                                                                                                                                                             \n",
       "1  ['ACE 360', 'ACCY 202', 'MATH 124', 'ACE 436',...                                                                                                                                                                                                                                                                                                                                                                                                                                                                                                                                                                                                                                                                                                                                                                                                                                                                                                                                                                                                                                                                             \n",
       "2  ['HIST/EALC 221', 'HIST 310', 'AAS 300/GWS 305...                                                                                                                                                                                                                                                                                                                                                                                                                                                                                                                                                                                                                                                                                                                                                                                                                                                                                                                                                                                                                                                                             \n",
       "3  ['IHLT 230', 'CMN 463', 'IHLT 101', 'PSYC 352'...                                                                                                                                                                                                                                                                                                                                                                                                                                                                                                                                                                                                                                                                                                                                                                                                                                                                                                                                                                                                                                                                             \n",
       "4  ['ECON 202', 'MCB 101', 'FSHN 469', 'ACE 261',...                                                                                                                                                                                                                                                                                                                                                                                                                                                                                                                                                                                                                                                                                                                                                                                                                                                                                                                                                                                                                                                                             "
      ]
     },
     "execution_count": 62,
     "metadata": {},
     "output_type": "execute_result"
    }
   ],
   "source": [
    "df_all.head(5)"
   ]
  },
  {
   "cell_type": "code",
   "execution_count": 63,
   "metadata": {},
   "outputs": [
    {
     "data": {
      "text/html": [
       "<div>\n",
       "<style scoped>\n",
       "    .dataframe tbody tr th:only-of-type {\n",
       "        vertical-align: middle;\n",
       "    }\n",
       "\n",
       "    .dataframe tbody tr th {\n",
       "        vertical-align: top;\n",
       "    }\n",
       "\n",
       "    .dataframe thead th {\n",
       "        text-align: right;\n",
       "    }\n",
       "</style>\n",
       "<table border=\"1\" class=\"dataframe\">\n",
       "  <thead>\n",
       "    <tr style=\"text-align: right;\">\n",
       "      <th></th>\n",
       "      <th>Landscape Architecture, BLA</th>\n",
       "      <th>['HORT 301', 'LA 438', 'LA 346', 'LA 250', 'LA 343', 'LA 345', 'LA 452', 'IB 103', '105', 'LA 241', 'MATH  115', 'LA 437', 'LA 342', 'LA 233', 'LA 314', 'LA 101', 'RHET 105', 'LA 281', 'LA 335', 'STAT 100', 'GEOL  100', 'LA 336', 'GEOG 103', 'UP 101', 'LA 234', 'FAA 101', 'LA 280']</th>\n",
       "    </tr>\n",
       "  </thead>\n",
       "  <tbody>\n",
       "    <tr>\n",
       "      <th>0</th>\n",
       "      <td>Civil Engineering, BS</td>\n",
       "      <td>['CHEM 102', 'PHYS 211', 'SE 101', 'CHEM 105',...</td>\n",
       "    </tr>\n",
       "    <tr>\n",
       "      <th>1</th>\n",
       "      <td>Mechanical Engineering, BS</td>\n",
       "      <td>['CS 101', 'ECE 206', 'ME 360', 'RHET  105', '...</td>\n",
       "    </tr>\n",
       "    <tr>\n",
       "      <th>2</th>\n",
       "      <td>Electrical Engineering, BS</td>\n",
       "      <td>['ECE 385', 'CHEM 102', 'PHYS 213', 'CHEM 103'...</td>\n",
       "    </tr>\n",
       "    <tr>\n",
       "      <th>3</th>\n",
       "      <td>Systems Engineering &amp; Design, BS</td>\n",
       "      <td>['SE 100', 'MATH 285', 'IE 300', 'SE 101', 'SE...</td>\n",
       "    </tr>\n",
       "    <tr>\n",
       "      <th>4</th>\n",
       "      <td>Biomolecular Engineering</td>\n",
       "      <td>['ENG 100', 'CS 101', 'CHBE 221', 'MCB 450', '...</td>\n",
       "    </tr>\n",
       "  </tbody>\n",
       "</table>\n",
       "</div>"
      ],
      "text/plain": [
       "        Landscape Architecture, BLA  \\\n",
       "0             Civil Engineering, BS   \n",
       "1        Mechanical Engineering, BS   \n",
       "2        Electrical Engineering, BS   \n",
       "3  Systems Engineering & Design, BS   \n",
       "4          Biomolecular Engineering   \n",
       "\n",
       "  ['HORT 301', 'LA 438', 'LA 346', 'LA 250', 'LA 343', 'LA 345', 'LA 452', 'IB 103', '105', 'LA 241', 'MATH  115', 'LA 437', 'LA 342', 'LA 233', 'LA 314', 'LA 101', 'RHET 105', 'LA 281', 'LA 335', 'STAT 100', 'GEOL  100', 'LA 336', 'GEOG 103', 'UP 101', 'LA 234', 'FAA 101', 'LA 280']  \n",
       "0  ['CHEM 102', 'PHYS 211', 'SE 101', 'CHEM 105',...                                                                                                                                                                                                                                          \n",
       "1  ['CS 101', 'ECE 206', 'ME 360', 'RHET  105', '...                                                                                                                                                                                                                                          \n",
       "2  ['ECE 385', 'CHEM 102', 'PHYS 213', 'CHEM 103'...                                                                                                                                                                                                                                          \n",
       "3  ['SE 100', 'MATH 285', 'IE 300', 'SE 101', 'SE...                                                                                                                                                                                                                                          \n",
       "4  ['ENG 100', 'CS 101', 'CHBE 221', 'MCB 450', '...                                                                                                                                                                                                                                          "
      ]
     },
     "execution_count": 63,
     "metadata": {},
     "output_type": "execute_result"
    }
   ],
   "source": [
    "df_rec.head(5)"
   ]
  },
  {
   "cell_type": "code",
   "execution_count": 64,
   "metadata": {},
   "outputs": [
    {
     "data": {
      "text/plain": [
       "(248, 2)"
      ]
     },
     "execution_count": 64,
     "metadata": {},
     "output_type": "execute_result"
    }
   ],
   "source": [
    "df_all.shape"
   ]
  },
  {
   "cell_type": "code",
   "execution_count": 65,
   "metadata": {},
   "outputs": [
    {
     "data": {
      "text/plain": [
       "(19, 2)"
      ]
     },
     "execution_count": 65,
     "metadata": {},
     "output_type": "execute_result"
    }
   ],
   "source": [
    "df_rec.shape"
   ]
  },
  {
   "cell_type": "code",
   "execution_count": 66,
   "metadata": {},
   "outputs": [],
   "source": [
    "df_all_as_array = df_all.to_numpy()\n",
    "df_rec_as_array = df_rec.to_numpy()\n"
   ]
  },
  {
   "cell_type": "code",
   "execution_count": 67,
   "metadata": {},
   "outputs": [],
   "source": [
    "new_dict = {}\n",
    "for major,course in df_all_as_array:\n",
    "    for major2, course2 in df_rec_as_array:\n",
    "        if major2 == major:\n",
    "            new_dict[major] = course2\n",
    "            break\n",
    "        else:\n",
    "            new_dict[major] = course\n",
    "\n",
    "\n",
    "# df_dict = {}\n",
    "# for major,course in df_as_array:\n",
    "#     course = course.replace(u\"\\xa0\", u\" \")\n",
    "#     if major in df_dict:\n",
    "#         df_dict[major].append(course)\n",
    "#     else:\n",
    "#         df_dict[major] = [course]"
   ]
  },
  {
   "cell_type": "code",
   "execution_count": 68,
   "metadata": {},
   "outputs": [],
   "source": [
    "import csv\n",
    "\n",
    "with open('grad_requirements_shorten.csv', 'w') as csv_file:  \n",
    "    writer = csv.writer(csv_file)\n",
    "    for key, value in new_dict.items():\n",
    "       writer.writerow([key, value])"
   ]
  },
  {
   "cell_type": "code",
   "execution_count": null,
   "metadata": {},
   "outputs": [],
   "source": []
  },
  {
   "cell_type": "code",
   "execution_count": null,
   "metadata": {},
   "outputs": [],
   "source": []
  },
  {
   "cell_type": "code",
   "execution_count": null,
   "metadata": {},
   "outputs": [],
   "source": []
  }
 ],
 "metadata": {
  "kernelspec": {
   "display_name": "Python 3",
   "language": "python",
   "name": "python3"
  },
  "language_info": {
   "codemirror_mode": {
    "name": "ipython",
    "version": 3
   },
   "file_extension": ".py",
   "mimetype": "text/x-python",
   "name": "python",
   "nbconvert_exporter": "python",
   "pygments_lexer": "ipython3",
   "version": "3.7.4"
  }
 },
 "nbformat": 4,
 "nbformat_minor": 2
}
